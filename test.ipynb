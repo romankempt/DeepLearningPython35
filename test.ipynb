{
 "cells": [
  {
   "cell_type": "code",
   "execution_count": 1,
   "metadata": {},
   "outputs": [
    {
     "name": "stdout",
     "output_type": "stream",
     "text": [
      "Epoch 0 : 9083 / 10000\n",
      "Epoch 1 : 9203 / 10000\n",
      "Epoch 2 : 9309 / 10000\n",
      "Epoch 3 : 9350 / 10000\n",
      "Epoch 4 : 9334 / 10000\n",
      "Epoch 5 : 9368 / 10000\n",
      "Epoch 6 : 9381 / 10000\n",
      "Epoch 7 : 9443 / 10000\n",
      "Epoch 8 : 9414 / 10000\n",
      "Epoch 9 : 9431 / 10000\n",
      "Epoch 10 : 9462 / 10000\n",
      "Epoch 11 : 9452 / 10000\n",
      "Epoch 12 : 9428 / 10000\n",
      "Epoch 13 : 9451 / 10000\n",
      "Epoch 14 : 9430 / 10000\n",
      "Epoch 15 : 9461 / 10000\n",
      "Epoch 16 : 9433 / 10000\n",
      "Epoch 17 : 9465 / 10000\n",
      "Epoch 18 : 9462 / 10000\n",
      "Epoch 19 : 9467 / 10000\n",
      "Epoch 20 : 9453 / 10000\n",
      "Epoch 21 : 9446 / 10000\n",
      "Epoch 22 : 9439 / 10000\n",
      "Epoch 23 : 9455 / 10000\n",
      "Epoch 24 : 9442 / 10000\n",
      "Epoch 25 : 9462 / 10000\n",
      "Epoch 26 : 9474 / 10000\n",
      "Epoch 27 : 9472 / 10000\n",
      "Epoch 28 : 9466 / 10000\n",
      "Epoch 29 : 9459 / 10000\n"
     ]
    }
   ],
   "source": [
    "import mnist_loader, network\n",
    "training_data, validation_data, test_data = mnist_loader.load_data_wrapper()\n",
    "net = network.Network([784, 30, 10])\n",
    "net.SGD(training_data, 30, 10, 3.0, test_data=test_data)"
   ]
  },
  {
   "cell_type": "code",
   "execution_count": null,
   "metadata": {},
   "outputs": [],
   "source": []
  }
 ],
 "metadata": {
  "kernelspec": {
   "display_name": "Python 3",
   "language": "python",
   "name": "python3"
  },
  "language_info": {
   "codemirror_mode": {
    "name": "ipython",
    "version": 3
   },
   "file_extension": ".py",
   "mimetype": "text/x-python",
   "name": "python",
   "nbconvert_exporter": "python",
   "pygments_lexer": "ipython3",
   "version": "3.8.3"
  }
 },
 "nbformat": 4,
 "nbformat_minor": 4
}
